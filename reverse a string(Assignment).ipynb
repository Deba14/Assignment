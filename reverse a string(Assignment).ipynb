{
 "cells": [
  {
   "cell_type": "code",
   "execution_count": 6,
   "id": "82c35c77",
   "metadata": {},
   "outputs": [
    {
     "name": "stdout",
     "output_type": "stream",
     "text": [
      "Enter a word : deba\n",
      "abed"
     ]
    }
   ],
   "source": [
    "word = str(input(\"Enter a word : \"))\n",
    "for i in range(len(word)-1,-1,-1):\n",
    "    print(word[i],end=\"\")"
   ]
  },
  {
   "cell_type": "code",
   "execution_count": 3,
   "id": "689103af",
   "metadata": {},
   "outputs": [
    {
     "name": "stdout",
     "output_type": "stream",
     "text": [
      "Enter a word: debashis\n",
      "sihsabed\n"
     ]
    }
   ],
   "source": [
    "Char = str(input(\"Enter a word: \"))\n",
    "v=slice(None,None,-1)\n",
    "print(Char[v])"
   ]
  },
  {
   "cell_type": "code",
   "execution_count": 7,
   "id": "4691a2ea",
   "metadata": {},
   "outputs": [
    {
     "name": "stdout",
     "output_type": "stream",
     "text": [
      "result : abed\n"
     ]
    }
   ],
   "source": [
    "x=\"deba\"\n",
    "print(\"result :\",x[5::-1])\n"
   ]
  },
  {
   "cell_type": "code",
   "execution_count": 8,
   "id": "689cc526",
   "metadata": {},
   "outputs": [
    {
     "name": "stdout",
     "output_type": "stream",
     "text": [
      "Enter a word :Lutan\n",
      "Reversed word natuL\n"
     ]
    }
   ],
   "source": [
    "char_name=str(input(\"Enter a word :\"))\n",
    "print(\"Reversed word\" ,char_name[len(char_name)+1::-1])"
   ]
  },
  {
   "cell_type": "code",
   "execution_count": null,
   "id": "84d535a8",
   "metadata": {},
   "outputs": [],
   "source": []
  }
 ],
 "metadata": {
  "kernelspec": {
   "display_name": "Python 3 (ipykernel)",
   "language": "python",
   "name": "python3"
  },
  "language_info": {
   "codemirror_mode": {
    "name": "ipython",
    "version": 3
   },
   "file_extension": ".py",
   "mimetype": "text/x-python",
   "name": "python",
   "nbconvert_exporter": "python",
   "pygments_lexer": "ipython3",
   "version": "3.8.6"
  }
 },
 "nbformat": 4,
 "nbformat_minor": 5
}
